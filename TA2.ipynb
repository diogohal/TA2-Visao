{
 "cells": [
  {
   "cell_type": "markdown",
   "id": "51ce8feb-1677-419e-9ebe-2f0f676addae",
   "metadata": {},
   "source": [
    "# TA2 - Calibração de câmera"
   ]
  },
  {
   "cell_type": "markdown",
   "id": "b6035cd0-a4dc-4601-b6ea-444850000635",
   "metadata": {},
   "source": [
    "## Calibração de câmera é o processo de se obter características intrínsecas e extrínsecas de uma câmera para fazer medições precisas de imagens. Em Visão Computacional, esse processo é importante para obter melhores resultados ao extrair informações de imagens."
   ]
  },
  {
   "cell_type": "markdown",
   "id": "ca31c9f2-951f-4d93-b007-ad69a67b09d8",
   "metadata": {},
   "source": [
    "## Importação de bibliotecas que serão utilizadas no script"
   ]
  },
  {
   "cell_type": "code",
   "execution_count": 1,
   "id": "185a5ae7-2940-4992-8387-f4e194b15a37",
   "metadata": {
    "tags": []
   },
   "outputs": [],
   "source": [
    "import cv2 as cv\n",
    "import matplotlib\n",
    "import numpy as np\n",
    "from matplotlib import pyplot as plt\n",
    "from ipywidgets import interact, interactive, interact_manual\n",
    "import glob"
   ]
  },
  {
   "cell_type": "markdown",
   "id": "d1f4b2e8-d02f-4347-901f-1cd4b416b567",
   "metadata": {},
   "source": [
    "## Script para a calibração de câmera"
   ]
  },
  {
   "cell_type": "markdown",
   "id": "0ecc7ee2-7205-4917-847a-9f01dab16735",
   "metadata": {},
   "source": [
    "### Primeiramente, especifica-se o tamanho do tabuleiro (largura e altura), o tamanho da imagem e o critério de término, valores que serão utilizados na aplicação. \n",
    "### O critério de término é um parâmetro que define quando a calibração deve ser interrompida, que nesse caso será TERM_CRITERIA_EPS + TERM_CRITERIA_MAX_ITER, ou seja, quando o número máximo de iterações OU a precisão desejada forem atingidos. O número de iterações especificado é 30 e a precisão é 0.001. "
   ]
  },
  {
   "cell_type": "code",
   "execution_count": 2,
   "id": "61d35d96-74c6-4877-af88-e8913531cddc",
   "metadata": {
    "tags": []
   },
   "outputs": [],
   "source": [
    "chessboardSize = (6,7)\n",
    "frameSize = ()\n",
    "criteria = (cv.TERM_CRITERIA_EPS + cv.TERM_CRITERIA_MAX_ITER, 30, 0.001)"
   ]
  },
  {
   "cell_type": "markdown",
   "id": "ab945871-0634-4f36-94ce-b14dc79afdd4",
   "metadata": {},
   "source": [
    "### Em seguida, defini-se os object points, que são pontos no espaço tridimensional que serão usados nos cálculos da calibração juntamente com suas correspondências. A matriz possui a coordenada Z sempre em 0 para facilitar os cálculos, já que a maioria das aplicações assume que o objeto de calibração está no plano XY."
   ]
  },
  {
   "cell_type": "code",
   "execution_count": 5,
   "id": "d7c0baf6-3385-4de4-865f-7631b3738b3e",
   "metadata": {
    "tags": []
   },
   "outputs": [],
   "source": [
    "objp = np.zeros((chessboardSize[0] * chessboardSize[1], 3), np.float32)\n",
    "objp[:,:2] = np.mgrid[0:chessboardSize[0],0:chessboardSize[1]].T.reshape(-1,2)"
   ]
  },
  {
   "cell_type": "markdown",
   "id": "f7748a9c-a123-476f-a727-296a2814ddf0",
   "metadata": {},
   "source": [
    "### Também defini-se arrays que irão realmente armazenar os dados de object points (3d) e image points (2d). Em Seguida, coleta-se as imagens que serão utilizadas na calibração a partir de um diretório."
   ]
  },
  {
   "cell_type": "code",
   "execution_count": 7,
   "id": "4f1e170b-ff8a-4f7b-a6b6-ae6f3b6bb5c8",
   "metadata": {
    "tags": []
   },
   "outputs": [],
   "source": [
    "objpoints = [] \n",
    "imgpoints = []\n",
    "images = glob.glob('./assets/*.jpg')"
   ]
  },
  {
   "cell_type": "markdown",
   "id": "6af7ea1b-9ae6-4b8d-8937-0956ccac912b",
   "metadata": {},
   "source": [
    "### Para cada imagem, faz a conversão para gray scale e acha-se os cantos do tabuleiro. O 'ret' é um boolean que verifica se a função achou ou não, já corners são as localizações dos pontos no plano 2D.\n",
    "### Caso os cantos sejam achados, faz o append das coordenadas 3D do tabuleiro em objpoints, refina-se a localização dos cantos com cornerSubPix e adiciona o resultado no imgpoints. É interessante ressaltar que objp é uma matriz fixa que representa o espaço 3D do tabuleiro, mas seu append em objpoints em cada iteração é necessário para relacionar com os pontos no plano 2D e calibrar a câmera futuramente.\n",
    "### Por fim, desenha-se os cantos e as linhas do tabuleiro na imagem com a função drawChessboardCorners()."
   ]
  },
  {
   "cell_type": "code",
   "execution_count": 11,
   "id": "2486b32b-7d58-4da4-9eff-86870a8656a6",
   "metadata": {
    "tags": []
   },
   "outputs": [],
   "source": [
    "for count, fname in enumerate(images):\n",
    "    img = cv.imread(fname)\n",
    "    gray = cv.cvtColor(img, cv.COLOR_BGR2GRAY)\n",
    "    ret, corners = cv.findChessboardCorners(gray, chessboardSize, None)\n",
    "    if ret == True:\n",
    "        objpoints.append(objp)\n",
    "        corners2 = cv.cornerSubPix(gray,corners, (11,11), (-1,-1), criteria)\n",
    "        imgpoints.append(corners2)\n",
    "        cv.drawChessboardCorners(img, (7,6), corners2, ret)\n",
    "        cv.imwrite(f'./drawCorners-images/calibrated{count}.jpg', img)"
   ]
  },
  {
   "cell_type": "markdown",
   "id": "2e51403f-8bc1-4aaf-a42c-dca1991e6bf4",
   "metadata": {},
   "source": [
    "### Com as informações obtidas, os object points e image points, é possível calibrar a câmera e melhorar as imagens. \n",
    "### **ret** é um boolean que é verdadeiro caso a calibração tenha sido bem sucedida\n",
    "### **mtx** é a matriz de calibração da câmera \n",
    "### **dist** é o coeficiente de distorção radial ou tangencial\n",
    "### **rvecs** é a lista de vetores de rotação que representam a orientação da câmera em relação ao objeto de calibração para cada imagem\n",
    "### **tvecs** é a lista de vetores de translação que representam a posição da câmera em relação ao objeto de calibração para cada imagem."
   ]
  },
  {
   "cell_type": "code",
   "execution_count": 12,
   "id": "9532d660-80ff-49af-8c69-87ea8d871b8d",
   "metadata": {
    "tags": []
   },
   "outputs": [],
   "source": [
    "ret, mtx, dist, rvecs, tvecs = cv.calibrateCamera(objpoints, imgpoints, gray.shape[::-1], None, None)"
   ]
  },
  {
   "cell_type": "markdown",
   "id": "eefddbea-afc6-4ed4-aff5-ad96d430ee5e",
   "metadata": {},
   "source": [
    "### Por fim, para cada imagem no diretório, faz-se a correção da distorção delas. Para isso, usa-se a função getOptimalNewCameraMatrix() para obter a matriz de correção da câmera. Em seguida, essa informação é utilizada na função undistort() para corrigir a imagem passada como parâmetro. Dessa forma, o resultado obtido é a imagem original sem distorções."
   ]
  },
  {
   "cell_type": "code",
   "execution_count": 13,
   "id": "2d17f38b-8c57-4052-aba0-ce9b6e5ae467",
   "metadata": {
    "tags": []
   },
   "outputs": [],
   "source": [
    "for count, fname in enumerate(images):\n",
    "    img = cv.imread(fname)\n",
    "    h,  w = img.shape[:2]\n",
    "    newcameramtx, roi = cv.getOptimalNewCameraMatrix(mtx, dist, (w,h), 1, (w,h))\n",
    "    # undistort\n",
    "    dst = cv.undistort(img, mtx, dist, None, newcameramtx)\n",
    "    # crop the image\n",
    "    x, y, w, h = roi\n",
    "    dst = dst[y:y+h, x:x+w]\n",
    "    cv.imwrite(f'./results/result{count}.png', dst)"
   ]
  }
 ],
 "metadata": {
  "kernelspec": {
   "display_name": "Python 3 (ipykernel)",
   "language": "python",
   "name": "python3"
  },
  "language_info": {
   "codemirror_mode": {
    "name": "ipython",
    "version": 3
   },
   "file_extension": ".py",
   "mimetype": "text/x-python",
   "name": "python",
   "nbconvert_exporter": "python",
   "pygments_lexer": "ipython3",
   "version": "3.10.6"
  }
 },
 "nbformat": 4,
 "nbformat_minor": 5
}
